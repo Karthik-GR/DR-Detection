{
 "cells": [
  {
   "cell_type": "markdown",
   "id": "22dc44f0",
   "metadata": {},
   "source": [
    "### Importing all the necessary libraries"
   ]
  },
  {
   "cell_type": "code",
   "execution_count": 1,
   "id": "7c3d66b2",
   "metadata": {},
   "outputs": [],
   "source": [
    "import os"
   ]
  },
  {
   "cell_type": "code",
   "execution_count": 2,
   "id": "70f59e48",
   "metadata": {},
   "outputs": [
    {
     "name": "stdout",
     "output_type": "stream",
     "text": [
      "WARNING:tensorflow:From C:\\Users\\MI\\anaconda3\\Lib\\site-packages\\keras\\src\\losses.py:2976: The name tf.losses.sparse_softmax_cross_entropy is deprecated. Please use tf.compat.v1.losses.sparse_softmax_cross_entropy instead.\n",
      "\n"
     ]
    }
   ],
   "source": [
    "import tensorflow as tf"
   ]
  },
  {
   "cell_type": "code",
   "execution_count": 3,
   "id": "ecc03120",
   "metadata": {},
   "outputs": [],
   "source": [
    "from tensorflow.keras.applications import EfficientNetB0"
   ]
  },
  {
   "cell_type": "code",
   "execution_count": 4,
   "id": "541e865f",
   "metadata": {},
   "outputs": [],
   "source": [
    "from tensorflow.keras.preprocessing.image import ImageDataGenerator"
   ]
  },
  {
   "cell_type": "code",
   "execution_count": 5,
   "id": "e91db17b",
   "metadata": {},
   "outputs": [],
   "source": [
    "from tensorflow.keras import layers \n",
    "from tensorflow.keras import models, optimizers"
   ]
  },
  {
   "cell_type": "code",
   "execution_count": 6,
   "id": "7e901a7c",
   "metadata": {},
   "outputs": [],
   "source": [
    "from tensorflow.keras.callbacks import LearningRateScheduler, EarlyStopping"
   ]
  },
  {
   "cell_type": "markdown",
   "id": "3e1a9bed",
   "metadata": {},
   "source": [
    "### Dataset path"
   ]
  },
  {
   "cell_type": "code",
   "execution_count": 7,
   "id": "2ff15eeb",
   "metadata": {},
   "outputs": [],
   "source": [
    "data_dir=r'C:\\Users\\MI\\Desktop\\proj\\Dataset'"
   ]
  },
  {
   "cell_type": "code",
   "execution_count": 8,
   "id": "81f0c84b",
   "metadata": {},
   "outputs": [],
   "source": [
    "train_dir=os.path.join(data_dir,'train')\n",
    "test_dir=os.path.join(data_dir,'test')\n",
    "validation_dir=os.path.join(data_dir,'valid')"
   ]
  },
  {
   "cell_type": "markdown",
   "id": "4c0f117d",
   "metadata": {},
   "source": [
    "### Listing the categories in the dataset"
   ]
  },
  {
   "cell_type": "code",
   "execution_count": 9,
   "id": "29fa3cb7",
   "metadata": {},
   "outputs": [],
   "source": [
    "categories = ['Healthy', 'Mild DR', 'Moderate DR', 'Proliferate DR', 'Severe DR']"
   ]
  },
  {
   "cell_type": "markdown",
   "id": "61f401a4",
   "metadata": {},
   "source": [
    "### Loading the data and preprocessing"
   ]
  },
  {
   "cell_type": "code",
   "execution_count": 10,
   "id": "e4db8148",
   "metadata": {},
   "outputs": [],
   "source": [
    "train_datagen = ImageDataGenerator(\n",
    "    rescale=1.0 / 255.0,  # Rescale the pixel values to [0, 1]\n",
    "    rotation_range=20,\n",
    "    width_shift_range=0.1,\n",
    "    height_shift_range=0.1,\n",
    "    horizontal_flip=True,\n",
    "    vertical_flip=True,\n",
    "    zoom_range=0.1\n",
    ")"
   ]
  },
  {
   "cell_type": "code",
   "execution_count": 11,
   "id": "bc331ea9",
   "metadata": {},
   "outputs": [
    {
     "name": "stdout",
     "output_type": "stream",
     "text": [
      "Found 2750 images belonging to 5 classes.\n"
     ]
    }
   ],
   "source": [
    "train_generator = train_datagen.flow_from_directory(\n",
    "    train_dir,\n",
    "    target_size=(256, 256),\n",
    "    batch_size=32,\n",
    "    class_mode='categorical'\n",
    ")"
   ]
  },
  {
   "cell_type": "code",
   "execution_count": 12,
   "id": "16217daf",
   "metadata": {},
   "outputs": [
    {
     "name": "stdout",
     "output_type": "stream",
     "text": [
      "Found 411 images belonging to 5 classes.\n"
     ]
    }
   ],
   "source": [
    "test_datagen = ImageDataGenerator(rescale=1.0 / 255.0)\n",
    "test_generator = test_datagen.flow_from_directory(\n",
    "    test_dir,\n",
    "    target_size=(256, 256),\n",
    "    batch_size=32,\n",
    "    class_mode='categorical'\n",
    ")"
   ]
  },
  {
   "cell_type": "code",
   "execution_count": 13,
   "id": "ed3823b9",
   "metadata": {},
   "outputs": [
    {
     "name": "stdout",
     "output_type": "stream",
     "text": [
      "Found 414 images belonging to 5 classes.\n"
     ]
    }
   ],
   "source": [
    "validation_datagen = ImageDataGenerator(rescale=1.0 / 255.0)\n",
    "validation_generator = validation_datagen.flow_from_directory(\n",
    "    validation_dir,\n",
    "    target_size=(256, 256),\n",
    "    batch_size=32,\n",
    "    class_mode='categorical'\n",
    ")"
   ]
  },
  {
   "cell_type": "markdown",
   "id": "20102240",
   "metadata": {},
   "source": [
    "# Model"
   ]
  },
  {
   "cell_type": "code",
   "execution_count": 14,
   "id": "e233102f",
   "metadata": {},
   "outputs": [
    {
     "name": "stdout",
     "output_type": "stream",
     "text": [
      "WARNING:tensorflow:From C:\\Users\\MI\\anaconda3\\Lib\\site-packages\\keras\\src\\backend.py:1398: The name tf.executing_eagerly_outside_functions is deprecated. Please use tf.compat.v1.executing_eagerly_outside_functions instead.\n",
      "\n",
      "WARNING:tensorflow:From C:\\Users\\MI\\anaconda3\\Lib\\site-packages\\keras\\src\\layers\\normalization\\batch_normalization.py:979: The name tf.nn.fused_batch_norm is deprecated. Please use tf.compat.v1.nn.fused_batch_norm instead.\n",
      "\n"
     ]
    }
   ],
   "source": [
    "base_model = EfficientNetB0(include_top=False, weights='imagenet', input_shape=(256, 256, 3))\n",
    "x = layers.GlobalAveragePooling2D()(base_model.output)\n",
    "x = layers.Dense(512, activation='swish')(x)\n",
    "x = layers.Dropout(0.5)(x)\n",
    "output = layers.Dense(len(categories), activation='sigmoid')(x)\n",
    "model = models.Model(inputs=base_model.input, outputs=output)"
   ]
  },
  {
   "cell_type": "markdown",
   "id": "0a134f44",
   "metadata": {},
   "source": [
    "# Learning rate schedule"
   ]
  },
  {
   "cell_type": "code",
   "execution_count": 15,
   "id": "9c4d18d4",
   "metadata": {},
   "outputs": [],
   "source": [
    "def lr_schedule(epoch, current_lr):\n",
    "    initial_lr = 0.001\n",
    "    drop = 0.5\n",
    "    epochs_drop = 5\n",
    "    return current_lr * (drop ** (epoch // epochs_drop))"
   ]
  },
  {
   "cell_type": "markdown",
   "id": "037a0e49",
   "metadata": {},
   "source": [
    "# Compile the model with learning rate schedule and early stopping"
   ]
  },
  {
   "cell_type": "code",
   "execution_count": 16,
   "id": "64f77a72",
   "metadata": {},
   "outputs": [],
   "source": [
    "initial_learning_rate = 0.001\n",
    "optimizer = optimizers.Adam(learning_rate=initial_learning_rate)\n",
    "lr_scheduler = LearningRateScheduler(lr_schedule, verbose=1)\n",
    "model.compile(optimizer=optimizer, loss='categorical_crossentropy', metrics=['accuracy'])\n",
    "early_stopping = EarlyStopping(patience=10, restore_best_weights=True)"
   ]
  },
  {
   "cell_type": "markdown",
   "id": "ff8905b6",
   "metadata": {},
   "source": [
    "# Train the model"
   ]
  },
  {
   "cell_type": "code",
   "execution_count": 17,
   "id": "e54d3c10",
   "metadata": {
    "scrolled": false
   },
   "outputs": [
    {
     "name": "stdout",
     "output_type": "stream",
     "text": [
      "\n",
      "Epoch 1: LearningRateScheduler setting learning rate to 0.0010000000474974513.\n",
      "Epoch 1/15\n",
      "WARNING:tensorflow:From C:\\Users\\MI\\anaconda3\\Lib\\site-packages\\keras\\src\\utils\\tf_utils.py:492: The name tf.ragged.RaggedTensorValue is deprecated. Please use tf.compat.v1.ragged.RaggedTensorValue instead.\n",
      "\n",
      "WARNING:tensorflow:From C:\\Users\\MI\\anaconda3\\Lib\\site-packages\\keras\\src\\engine\\base_layer_utils.py:384: The name tf.executing_eagerly_outside_functions is deprecated. Please use tf.compat.v1.executing_eagerly_outside_functions instead.\n",
      "\n",
      "86/86 [==============================] - 677s 7s/step - loss: 0.9431 - accuracy: 0.6400 - val_loss: 1.7373 - val_accuracy: 0.1353 - lr: 0.0010\n",
      "\n",
      "Epoch 2: LearningRateScheduler setting learning rate to 0.0010000000474974513.\n",
      "Epoch 2/15\n",
      "86/86 [==============================] - 587s 7s/step - loss: 0.7689 - accuracy: 0.7175 - val_loss: 1.6672 - val_accuracy: 0.3623 - lr: 0.0010\n",
      "\n",
      "Epoch 3: LearningRateScheduler setting learning rate to 0.0010000000474974513.\n",
      "Epoch 3/15\n",
      "86/86 [==============================] - 585s 7s/step - loss: 0.6947 - accuracy: 0.7400 - val_loss: 1.6695 - val_accuracy: 0.1329 - lr: 0.0010\n",
      "\n",
      "Epoch 4: LearningRateScheduler setting learning rate to 0.0010000000474974513.\n",
      "Epoch 4/15\n",
      "86/86 [==============================] - 579s 7s/step - loss: 0.6275 - accuracy: 0.7585 - val_loss: 2.0248 - val_accuracy: 0.0700 - lr: 0.0010\n",
      "\n",
      "Epoch 5: LearningRateScheduler setting learning rate to 0.0010000000474974513.\n",
      "Epoch 5/15\n",
      "86/86 [==============================] - 583s 7s/step - loss: 0.6197 - accuracy: 0.7633 - val_loss: 2.5706 - val_accuracy: 0.3478 - lr: 0.0010\n",
      "\n",
      "Epoch 6: LearningRateScheduler setting learning rate to 0.0005000000237487257.\n",
      "Epoch 6/15\n",
      "86/86 [==============================] - 578s 7s/step - loss: 0.5403 - accuracy: 0.7905 - val_loss: 1.9325 - val_accuracy: 0.3261 - lr: 5.0000e-04\n",
      "\n",
      "Epoch 7: LearningRateScheduler setting learning rate to 0.0002500000118743628.\n",
      "Epoch 7/15\n",
      "86/86 [==============================] - 575s 7s/step - loss: 0.4698 - accuracy: 0.8196 - val_loss: 1.7792 - val_accuracy: 0.2319 - lr: 2.5000e-04\n",
      "\n",
      "Epoch 8: LearningRateScheduler setting learning rate to 0.0001250000059371814.\n",
      "Epoch 8/15\n",
      "86/86 [==============================] - 577s 7s/step - loss: 0.4198 - accuracy: 0.8422 - val_loss: 1.4487 - val_accuracy: 0.4203 - lr: 1.2500e-04\n",
      "\n",
      "Epoch 9: LearningRateScheduler setting learning rate to 6.25000029685907e-05.\n",
      "Epoch 9/15\n",
      "86/86 [==============================] - 576s 7s/step - loss: 0.3921 - accuracy: 0.8473 - val_loss: 1.3439 - val_accuracy: 0.4758 - lr: 6.2500e-05\n",
      "\n",
      "Epoch 10: LearningRateScheduler setting learning rate to 3.125000148429535e-05.\n",
      "Epoch 10/15\n",
      "86/86 [==============================] - 574s 7s/step - loss: 0.3744 - accuracy: 0.8589 - val_loss: 0.8666 - val_accuracy: 0.6546 - lr: 3.1250e-05\n",
      "\n",
      "Epoch 11: LearningRateScheduler setting learning rate to 7.812500371073838e-06.\n",
      "Epoch 11/15\n",
      "86/86 [==============================] - 577s 7s/step - loss: 0.3579 - accuracy: 0.8640 - val_loss: 0.6034 - val_accuracy: 0.7585 - lr: 7.8125e-06\n",
      "\n",
      "Epoch 12: LearningRateScheduler setting learning rate to 1.9531250927684596e-06.\n",
      "Epoch 12/15\n",
      "86/86 [==============================] - 575s 7s/step - loss: 0.3763 - accuracy: 0.8549 - val_loss: 0.3859 - val_accuracy: 0.8406 - lr: 1.9531e-06\n",
      "\n",
      "Epoch 13: LearningRateScheduler setting learning rate to 4.882812731921149e-07.\n",
      "Epoch 13/15\n",
      "86/86 [==============================] - 577s 7s/step - loss: 0.3690 - accuracy: 0.8560 - val_loss: 0.3185 - val_accuracy: 0.8720 - lr: 4.8828e-07\n",
      "\n",
      "Epoch 14: LearningRateScheduler setting learning rate to 1.2207031829802872e-07.\n",
      "Epoch 14/15\n",
      "86/86 [==============================] - 575s 7s/step - loss: 0.3866 - accuracy: 0.8440 - val_loss: 0.2999 - val_accuracy: 0.8792 - lr: 1.2207e-07\n",
      "\n",
      "Epoch 15: LearningRateScheduler setting learning rate to 3.051757957450718e-08.\n",
      "Epoch 15/15\n",
      "86/86 [==============================] - 581s 7s/step - loss: 0.3727 - accuracy: 0.8593 - val_loss: 0.2961 - val_accuracy: 0.8792 - lr: 3.0518e-08\n"
     ]
    },
    {
     "data": {
      "text/plain": [
       "<keras.src.callbacks.History at 0x18318fb97d0>"
      ]
     },
     "execution_count": 17,
     "metadata": {},
     "output_type": "execute_result"
    }
   ],
   "source": [
    "model.fit(train_generator, epochs=15, callbacks=[lr_scheduler, early_stopping], validation_data=validation_generator)"
   ]
  },
  {
   "cell_type": "markdown",
   "id": "224479b3",
   "metadata": {},
   "source": [
    "# Evaluate the model on test data"
   ]
  },
  {
   "cell_type": "code",
   "execution_count": 20,
   "id": "ba8f5568",
   "metadata": {},
   "outputs": [
    {
     "name": "stdout",
     "output_type": "stream",
     "text": [
      "13/13 [==============================] - 24s 2s/step - loss: 0.2820 - accuracy: 0.8929\n",
      "Test Loss: 0.2820238769054413\n",
      "Test Accuracy: 0.8929440379142761\n"
     ]
    }
   ],
   "source": [
    "test_loss, test_accuracy = model.evaluate(test_generator)\n",
    "print(\"Test Loss:\",test_loss)\n",
    "print(\"Test Accuracy:\",test_accuracy)"
   ]
  },
  {
   "cell_type": "code",
   "execution_count": 21,
   "id": "f8394dd1",
   "metadata": {},
   "outputs": [
    {
     "name": "stdout",
     "output_type": "stream",
     "text": [
      "Collecting package metadata (current_repodata.json): ...working... done\n",
      "Note: you may need to restart the kernel to use updated packages.\n",
      "\n",
      "Solving environment: ...working... done\n",
      "\n",
      "## Package Plan ##\n",
      "\n",
      "  environment location: C:\\Users\\MI\\anaconda3\n",
      "\n",
      "  added / updated specs:\n",
      "    - joblib\n",
      "\n",
      "\n",
      "The following packages will be downloaded:\n",
      "\n",
      "    package                    |            build\n",
      "    ---------------------------|-----------------\n",
      "    ca-certificates-2023.12.12 |       haa95532_0         127 KB\n",
      "    certifi-2023.11.17         |  py311haa95532_0         160 KB\n",
      "    imbalanced-learn-0.11.0    |  py311haa95532_1         383 KB\n",
      "    openssl-3.0.12             |       h2bbff1b_0         7.4 MB\n",
      "    ------------------------------------------------------------\n",
      "                                           Total:         8.0 MB\n",
      "\n",
      "The following NEW packages will be INSTALLED:\n",
      "\n",
      "  imbalanced-learn   pkgs/main/win-64::imbalanced-learn-0.11.0-py311haa95532_1 \n",
      "\n",
      "The following packages will be UPDATED:\n",
      "\n",
      "  ca-certificates                     2023.08.22-haa95532_0 --> 2023.12.12-haa95532_0 \n",
      "  certifi                         2023.7.22-py311haa95532_0 --> 2023.11.17-py311haa95532_0 \n",
      "  openssl                                 3.0.10-h2bbff1b_2 --> 3.0.12-h2bbff1b_0 \n",
      "\n",
      "\n",
      "\n",
      "Downloading and Extracting Packages\n",
      "\n",
      "certifi-2023.11.17   | 160 KB    |            |   0% \n",
      "\n",
      "ca-certificates-2023 | 127 KB    |            |   0% \u001b[A\n",
      "\n",
      "\n",
      "openssl-3.0.12       | 7.4 MB    |            |   0% \u001b[A\u001b[A\n",
      "\n",
      "\n",
      "\n",
      "imbalanced-learn-0.1 | 383 KB    |            |   0% \u001b[A\u001b[A\u001b[A\n",
      "\n",
      "\n",
      "\n",
      "imbalanced-learn-0.1 | 383 KB    | 4          |   4% \u001b[A\u001b[A\u001b[A\n",
      "\n",
      "ca-certificates-2023 | 127 KB    | #2         |  13% \u001b[A\n",
      "\n",
      "\n",
      "openssl-3.0.12       | 7.4 MB    |            |   0% \u001b[A\u001b[A\n",
      "certifi-2023.11.17   | 160 KB    | #          |  10% \n",
      "\n",
      "\n",
      "openssl-3.0.12       | 7.4 MB    | 6          |   7% \u001b[A\u001b[A\n",
      "\n",
      "\n",
      "openssl-3.0.12       | 7.4 MB    | #          |  11% \u001b[A\u001b[A\n",
      "\n",
      "\n",
      "openssl-3.0.12       | 7.4 MB    | ##5        |  25% \u001b[A\u001b[A\n",
      "\n",
      "\n",
      "openssl-3.0.12       | 7.4 MB    | ###9       |  40% \u001b[A\u001b[A\n",
      "\n",
      "\n",
      "openssl-3.0.12       | 7.4 MB    | #####1     |  52% \u001b[A\u001b[A\n",
      "\n",
      "\n",
      "openssl-3.0.12       | 7.4 MB    | ######2    |  63% \u001b[A\u001b[A\n",
      "\n",
      "\n",
      "openssl-3.0.12       | 7.4 MB    | #######4   |  75% \u001b[A\u001b[A\n",
      "\n",
      "ca-certificates-2023 | 127 KB    | ########## | 100% \u001b[A\n",
      "\n",
      "ca-certificates-2023 | 127 KB    | ########## | 100% \u001b[A\n",
      "\n",
      "\n",
      "openssl-3.0.12       | 7.4 MB    | ########7  |  88% \u001b[A\u001b[A\n",
      "certifi-2023.11.17   | 160 KB    | ########## | 100% \n",
      "certifi-2023.11.17   | 160 KB    | ########## | 100% \n",
      "\n",
      "\n",
      "openssl-3.0.12       | 7.4 MB    | ########## | 100% \u001b[A\u001b[A\n",
      "\n",
      "\n",
      "openssl-3.0.12       | 7.4 MB    | ########## | 100% \u001b[A\u001b[A\n",
      "\n",
      "\n",
      "\n",
      "imbalanced-learn-0.1 | 383 KB    | ########## | 100% \u001b[A\u001b[A\u001b[A\n",
      "\n",
      "\n",
      "\n",
      "imbalanced-learn-0.1 | 383 KB    | ########## | 100% \u001b[A\u001b[A\u001b[A\n",
      "                                                     \n",
      "\n",
      "\n",
      "                                                     \u001b[A\n",
      "\n",
      "\n",
      "                                                     \u001b[A\u001b[A\n",
      "\n",
      "\n",
      "\n",
      "                                                     \u001b[A\u001b[A\u001b[A\n",
      "\n",
      "Preparing transaction: ...working... done\n",
      "Verifying transaction: ...working... done\n",
      "Executing transaction: ...working... done\n"
     ]
    },
    {
     "name": "stderr",
     "output_type": "stream",
     "text": [
      "\n",
      "The environment is inconsistent, please check the package plan carefully\n",
      "The following packages are causing the inconsistency:\n",
      "\n",
      "  - defaults/win-64::_anaconda_depends==2023.09=py311_mkl_1\n",
      "\n",
      "\n",
      "==> WARNING: A newer version of conda exists. <==\n",
      "  current version: 23.7.4\n",
      "  latest version: 23.11.0\n",
      "\n",
      "Please update conda by running\n",
      "\n",
      "    $ conda update -n base -c defaults conda\n",
      "\n",
      "Or to minimize the number of packages updated during conda update use\n",
      "\n",
      "     conda install conda=23.11.0\n",
      "\n",
      "\n"
     ]
    }
   ],
   "source": [
    "conda install joblib"
   ]
  },
  {
   "cell_type": "code",
   "execution_count": 1,
   "id": "a2df9b48",
   "metadata": {},
   "outputs": [
    {
     "ename": "NameError",
     "evalue": "name 'cnn' is not defined",
     "output_type": "error",
     "traceback": [
      "\u001b[1;31m---------------------------------------------------------------------------\u001b[0m",
      "\u001b[1;31mNameError\u001b[0m                                 Traceback (most recent call last)",
      "Cell \u001b[1;32mIn[1], line 1\u001b[0m\n\u001b[1;32m----> 1\u001b[0m cnn\u001b[38;5;241m.\u001b[39msave(\u001b[38;5;124m'\u001b[39m\u001b[38;5;124mefb0.h5\u001b[39m\u001b[38;5;124m'\u001b[39m)\n",
      "\u001b[1;31mNameError\u001b[0m: name 'cnn' is not defined"
     ]
    }
   ],
   "source": [
    "cnn.save('efb0.h5')"
   ]
  },
  {
   "cell_type": "code",
   "execution_count": null,
   "id": "08f605e9",
   "metadata": {},
   "outputs": [],
   "source": []
  }
 ],
 "metadata": {
  "kernelspec": {
   "display_name": "Python 3 (ipykernel)",
   "language": "python",
   "name": "python3"
  },
  "language_info": {
   "codemirror_mode": {
    "name": "ipython",
    "version": 3
   },
   "file_extension": ".py",
   "mimetype": "text/x-python",
   "name": "python",
   "nbconvert_exporter": "python",
   "pygments_lexer": "ipython3",
   "version": "3.11.5"
  }
 },
 "nbformat": 4,
 "nbformat_minor": 5
}
