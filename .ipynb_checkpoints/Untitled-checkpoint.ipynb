{
 "cells": [
  {
   "cell_type": "code",
   "execution_count": 9,
   "id": "8e2ba025",
   "metadata": {},
   "outputs": [],
   "source": [
    "from tensorflow.keras.models import load_model\n",
    "import os\n",
    "import tensorflow as tf"
   ]
  },
  {
   "cell_type": "code",
   "execution_count": 10,
   "id": "8eda5bd4",
   "metadata": {},
   "outputs": [],
   "source": [
    "import tensorflow as tf\n",
    "from tensorflow.keras.preprocessing import image\n",
    "from tensorflow.keras.applications.densenet import preprocess_input as preprocess_densenet\n",
    "from tensorflow.keras.applications.efficientnet import preprocess_input as preprocess_efficientnet\n",
    "import numpy as np"
   ]
  },
  {
   "cell_type": "code",
   "execution_count": 11,
   "id": "4f86f06b",
   "metadata": {},
   "outputs": [],
   "source": [
    "# Define the list of categories\n",
    "categories = ['Healthy', 'Mild DR', 'Moderate DR', 'Proliferate DR', 'Severe DR']"
   ]
  },
  {
   "cell_type": "code",
   "execution_count": 19,
   "id": "64226266",
   "metadata": {},
   "outputs": [
    {
     "name": "stdout",
     "output_type": "stream",
     "text": [
      "Unsupported model\n"
     ]
    },
    {
     "ename": "UnboundLocalError",
     "evalue": "cannot access local variable 'processed_img' where it is not associated with a value",
     "output_type": "error",
     "traceback": [
      "\u001b[1;31m---------------------------------------------------------------------------\u001b[0m",
      "\u001b[1;31mUnboundLocalError\u001b[0m                         Traceback (most recent call last)",
      "Cell \u001b[1;32mIn[19], line 25\u001b[0m\n\u001b[0;32m     23\u001b[0m \u001b[38;5;66;03m# Replace 'path_to_your_image.jpg' with the path of your image file\u001b[39;00m\n\u001b[0;32m     24\u001b[0m image_path \u001b[38;5;241m=\u001b[39m \u001b[38;5;124mr\u001b[39m\u001b[38;5;124m'\u001b[39m\u001b[38;5;124mC:\u001b[39m\u001b[38;5;124m\\\u001b[39m\u001b[38;5;124mUsers\u001b[39m\u001b[38;5;124m\\\u001b[39m\u001b[38;5;124mMI\u001b[39m\u001b[38;5;124m\\\u001b[39m\u001b[38;5;124mDesktop\u001b[39m\u001b[38;5;124m\\\u001b[39m\u001b[38;5;124mproj\u001b[39m\u001b[38;5;124m\\\u001b[39m\u001b[38;5;124mDataset\u001b[39m\u001b[38;5;124m\\\u001b[39m\u001b[38;5;124mtest\u001b[39m\u001b[38;5;124m\\\u001b[39m\u001b[38;5;124mModerate DR\u001b[39m\u001b[38;5;124m\\\u001b[39m\u001b[38;5;124mModerate_DR_19.png\u001b[39m\u001b[38;5;124m'\u001b[39m  \u001b[38;5;66;03m# Update this path\u001b[39;00m\n\u001b[1;32m---> 25\u001b[0m predicted_category \u001b[38;5;241m=\u001b[39m classify_image(image_path)\n\u001b[0;32m     26\u001b[0m \u001b[38;5;28mprint\u001b[39m(\u001b[38;5;124m\"\u001b[39m\u001b[38;5;124mPredicted Category:\u001b[39m\u001b[38;5;124m\"\u001b[39m, predicted_category)\n",
      "Cell \u001b[1;32mIn[19], line 17\u001b[0m, in \u001b[0;36mclassify_image\u001b[1;34m(image_path)\u001b[0m\n\u001b[0;32m     14\u001b[0m     \u001b[38;5;28mprint\u001b[39m(\u001b[38;5;124m\"\u001b[39m\u001b[38;5;124mUnsupported model\u001b[39m\u001b[38;5;124m\"\u001b[39m)\n\u001b[0;32m     16\u001b[0m \u001b[38;5;66;03m# Predict the category of the image\u001b[39;00m\n\u001b[1;32m---> 17\u001b[0m prediction \u001b[38;5;241m=\u001b[39m loaded_model\u001b[38;5;241m.\u001b[39mpredict(processed_img)\n\u001b[0;32m     18\u001b[0m predicted_class \u001b[38;5;241m=\u001b[39m np\u001b[38;5;241m.\u001b[39margmax(prediction)\n\u001b[0;32m     19\u001b[0m predicted_category \u001b[38;5;241m=\u001b[39m categories[predicted_class]\n",
      "\u001b[1;31mUnboundLocalError\u001b[0m: cannot access local variable 'processed_img' where it is not associated with a value"
     ]
    }
   ],
   "source": [
    "def classify_image(image_path):\n",
    "    img = image.load_img(image_path, target_size=(224, 224))  # Update target_size if required\n",
    "\n",
    "    # Preprocess the image based on the model being used\n",
    "    if loaded_model.name == 'densenet121':\n",
    "        img_array = image.img_to_array(img)\n",
    "        img_array = np.expand_dims(img_array, axis=0)\n",
    "        processed_img = preprocess_densenet(img_array)\n",
    "    elif loaded_model.name == 'efficientnetb0':\n",
    "        img_array = image.img_to_array(img)\n",
    "        img_array = np.expand_dims(img_array, axis=0)\n",
    "        processed_img = preprocess_efficientnet(img_array)\n",
    "    else:\n",
    "        print(\"Unsupported model\")\n",
    "\n",
    "    # Predict the category of the image\n",
    "    prediction = loaded_model.predict(processed_img)\n",
    "    predicted_class = np.argmax(prediction)\n",
    "    predicted_category = categories[predicted_class]\n",
    "\n",
    "    return predicted_category\n",
    "\n",
    "# Replace 'path_to_your_image.jpg' with the path of your image file\n",
    "image_path = r'C:\\Users\\MI\\Desktop\\proj\\Dataset\\test\\Moderate DR\\Moderate_DR_19.png'  # Update this path\n",
    "predicted_category = classify_image(image_path)\n",
    "print(\"Predicted Category:\", predicted_category)"
   ]
  },
  {
   "cell_type": "code",
   "execution_count": 12,
   "id": "a1071975",
   "metadata": {},
   "outputs": [],
   "source": [
    "\n",
    "# Load the pre-trained DenseNet121 or EfficientNetB0 model\n",
    "# Replace 'model_path' with the path where your trained model is saved\n",
    "loaded_model = tf.keras.models.load_model('efb0.h5')\n"
   ]
  },
  {
   "cell_type": "code",
   "execution_count": 16,
   "id": "7e7b4524",
   "metadata": {},
   "outputs": [],
   "source": [
    "data_dir=r'C:\\Users\\MI\\Desktop\\proj\\Dataset'\n",
    "test_dir=os.path.join(data_dir,'test')"
   ]
  },
  {
   "cell_type": "code",
   "execution_count": 17,
   "id": "ccb89273",
   "metadata": {},
   "outputs": [
    {
     "name": "stdout",
     "output_type": "stream",
     "text": [
      "Found 411 images belonging to 5 classes.\n"
     ]
    }
   ],
   "source": [
    "from tensorflow.keras.preprocessing.image import ImageDataGenerator\n",
    "test_datagen = ImageDataGenerator(rescale=1.0 / 255.0)\n",
    "test_generator = test_datagen.flow_from_directory(\n",
    "    test_dir,\n",
    "    target_size=(256, 256),\n",
    "    batch_size=32,\n",
    "    class_mode='categorical'\n",
    ")"
   ]
  },
  {
   "cell_type": "code",
   "execution_count": 18,
   "id": "3ba3a094",
   "metadata": {},
   "outputs": [
    {
     "name": "stdout",
     "output_type": "stream",
     "text": [
      "WARNING:tensorflow:From C:\\Users\\MI\\anaconda3\\Lib\\site-packages\\keras\\src\\utils\\tf_utils.py:492: The name tf.ragged.RaggedTensorValue is deprecated. Please use tf.compat.v1.ragged.RaggedTensorValue instead.\n",
      "\n",
      "13/13 [==============================] - 27s 2s/step - loss: 0.2820 - accuracy: 0.8929\n"
     ]
    }
   ],
   "source": [
    "test_loss, test_accuracy = loaded_model.evaluate(test_generator)"
   ]
  },
  {
   "cell_type": "code",
   "execution_count": 22,
   "id": "49995d99",
   "metadata": {},
   "outputs": [
    {
     "name": "stdout",
     "output_type": "stream",
     "text": [
      "13/13 [==============================] - 22s 1s/step\n"
     ]
    },
    {
     "data": {
      "image/png": "[encoded data removed]",
      "text/plain": [
       "<Figure size 800x600 with 2 Axes>"
      ]
     },
     "metadata": {},
     "output_type": "display_data"
    }
   ],
   "source": [
    "from sklearn.metrics import confusion_matrix\n",
    "import seaborn as sns\n",
    "import matplotlib.pyplot as plt\n",
    "\n",
    "# Assuming loaded_model.predict generates predictions on the test set\n",
    "predictions = loaded_model.predict(test_generator)\n",
    "\n",
    "# Get true labels from the test_generator\n",
    "true_labels = test_generator.classes\n",
    "\n",
    "# Calculate confusion matrix\n",
    "conf_matrix = confusion_matrix(true_labels, predictions.argmax(axis=1))\n",
    "\n",
    "# Plot the heatmap using seaborn\n",
    "plt.figure(figsize=(8, 6))\n",
    "sns.heatmap(conf_matrix, annot=True, fmt='d', cmap='Blues')\n",
    "plt.xlabel('Predicted labels')\n",
    "plt.ylabel('True labels')\n",
    "plt.title('Confusion Matrix')\n",
    "plt.show()\n"
   ]
  },
  {
   "cell_type": "code",
   "execution_count": null,
   "id": "63826433",
   "metadata": {},
   "outputs": [],
   "source": []
  }
 ],
 "metadata": {
  "kernelspec": {
   "display_name": "Python 3 (ipykernel)",
   "language": "python",
   "name": "python3"
  },
  "language_info": {
   "codemirror_mode": {
    "name": "ipython",
    "version": 3
   },
   "file_extension": ".py",
   "mimetype": "text/x-python",
   "name": "python",
   "nbconvert_exporter": "python",
   "pygments_lexer": "ipython3",
   "version": "3.11.5"
  }
 },
 "nbformat": 4,
 "nbformat_minor": 5
}
