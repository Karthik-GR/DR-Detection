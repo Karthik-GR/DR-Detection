{
 "cells": [
  {
   "cell_type": "code",
   "execution_count": 1,
   "id": "f34ef598",
   "metadata": {},
   "outputs": [
    {
     "name": "stdout",
     "output_type": "stream",
     "text": [
      "WARNING:tensorflow:From C:\\Users\\MI\\anaconda3\\Lib\\site-packages\\keras\\src\\losses.py:2976: The name tf.losses.sparse_softmax_cross_entropy is deprecated. Please use tf.compat.v1.losses.sparse_softmax_cross_entropy instead.\n",
      "\n"
     ]
    }
   ],
   "source": [
    "import os\n",
    "import tensorflow as tf\n",
    "from tensorflow.keras.layers import Flatten, Dense, Dropout, Conv2D, MaxPooling2D, BatchNormalization, GlobalAveragePooling2D\n",
    "from tensorflow.keras.applications import DenseNet121\n",
    "from tensorflow.keras.preprocessing.image import ImageDataGenerator\n",
    "from tensorflow.keras import layers, models, optimizers\n",
    "from tensorflow.keras.callbacks import LearningRateScheduler, EarlyStopping\n",
    "from tensorflow.keras.applications import EfficientNetB0"
   ]
  },
  {
   "cell_type": "code",
   "execution_count": 9,
   "id": "6942d4d5",
   "metadata": {},
   "outputs": [],
   "source": [
    "# Set up data paths\n",
    "main_data_dir = r'C:\\Users\\MI\\Desktop\\proj\\Dataset'  \n",
    "train_dir = os.path.join(main_data_dir, 'train')\n",
    "test_dir = os.path.join(main_data_dir, 'test')\n",
    "validation_dir = os.path.join(main_data_dir, 'valid')"
   ]
  },
  {
   "cell_type": "code",
   "execution_count": 10,
   "id": "c3d8a2a2",
   "metadata": {},
   "outputs": [],
   "source": [
    "# List of categories\n",
    "categories = ['Healthy', 'Mild DR', 'Moderate DR', 'Proliferate DR', 'Severe DR']"
   ]
  },
  {
   "cell_type": "code",
   "execution_count": 11,
   "id": "099fe6a9",
   "metadata": {},
   "outputs": [],
   "source": [
    "# Set batch size\n",
    "batch_size = 32"
   ]
  },
  {
   "cell_type": "code",
   "execution_count": 12,
   "id": "a65f6f52",
   "metadata": {},
   "outputs": [],
   "source": [
    "import tensorflow as tf\n",
    "from tensorflow.keras import layers, models, optimizers, callbacks\n",
    "from tensorflow.keras.applications import DenseNet121\n",
    "from tensorflow.keras.preprocessing.image import ImageDataGenerator"
   ]
  },
  {
   "cell_type": "code",
   "execution_count": 13,
   "id": "88a5f9e8",
   "metadata": {},
   "outputs": [],
   "source": [
    "train_datagen = ImageDataGenerator(\n",
    "    rescale=1.0 / 255.0,\n",
    "    rotation_range=20,\n",
    "    width_shift_range=0.1,\n",
    "    height_shift_range=0.1,\n",
    "    horizontal_flip=True,\n",
    "    vertical_flip=True,\n",
    "    zoom_range=0.1\n",
    ")"
   ]
  },
  {
   "cell_type": "code",
   "execution_count": 14,
   "id": "c908b68a",
   "metadata": {},
   "outputs": [
    {
     "name": "stdout",
     "output_type": "stream",
     "text": [
      "Found 2750 images belonging to 5 classes.\n"
     ]
    }
   ],
   "source": [
    "train_generator = train_datagen.flow_from_directory(\n",
    "    train_dir,\n",
    "    target_size=(224, 224),\n",
    "    batch_size=32,\n",
    "    class_mode='categorical'\n",
    ")"
   ]
  },
  {
   "cell_type": "code",
   "execution_count": 15,
   "id": "51ce4b67",
   "metadata": {},
   "outputs": [
    {
     "name": "stdout",
     "output_type": "stream",
     "text": [
      "Found 411 images belonging to 5 classes.\n"
     ]
    }
   ],
   "source": [
    "test_datagen = ImageDataGenerator(rescale=1.0 / 255.0)\n",
    "test_generator = test_datagen.flow_from_directory(\n",
    "    test_dir,\n",
    "    target_size=(224, 224),\n",
    "    batch_size=32,\n",
    "    class_mode='categorical'\n",
    ")\n"
   ]
  },
  {
   "cell_type": "code",
   "execution_count": 16,
   "id": "385b9f84",
   "metadata": {},
   "outputs": [
    {
     "name": "stdout",
     "output_type": "stream",
     "text": [
      "Found 414 images belonging to 5 classes.\n"
     ]
    }
   ],
   "source": [
    "validation_datagen = ImageDataGenerator(rescale=1.0 / 255.0)\n",
    "validation_generator = validation_datagen.flow_from_directory(\n",
    "    validation_dir,\n",
    "    target_size=(224, 224),\n",
    "    batch_size=32,\n",
    "    class_mode='categorical'\n",
    ")"
   ]
  },
  {
   "cell_type": "code",
   "execution_count": 17,
   "id": "f9bdceea",
   "metadata": {},
   "outputs": [
    {
     "name": "stdout",
     "output_type": "stream",
     "text": [
      "WARNING:tensorflow:From C:\\Users\\MI\\anaconda3\\Lib\\site-packages\\keras\\src\\backend.py:1398: The name tf.executing_eagerly_outside_functions is deprecated. Please use tf.compat.v1.executing_eagerly_outside_functions instead.\n",
      "\n",
      "WARNING:tensorflow:From C:\\Users\\MI\\anaconda3\\Lib\\site-packages\\keras\\src\\layers\\normalization\\batch_normalization.py:979: The name tf.nn.fused_batch_norm is deprecated. Please use tf.compat.v1.nn.fused_batch_norm instead.\n",
      "\n"
     ]
    }
   ],
   "source": [
    "base_model = DenseNet121(include_top=False, weights='imagenet', input_shape=(224, 224, 3))\n",
    "x = layers.GlobalAveragePooling2D()(base_model.output)\n",
    "x = layers.Dense(512, activation='relu')(x)\n",
    "x = layers.Dropout(0.5)(x)\n",
    "output = layers.Dense(len(categories), activation='softmax')(x)\n",
    "model = models.Model(inputs=base_model.input, outputs=output)"
   ]
  },
  {
   "cell_type": "code",
   "execution_count": 18,
   "id": "6ebbf634",
   "metadata": {},
   "outputs": [],
   "source": [
    "def lr_schedule(epoch, current_lr):\n",
    "    initial_lr = 0.001\n",
    "    drop = 0.5\n",
    "    epochs_drop = 5\n",
    "    return current_lr * (drop ** (epoch // epochs_drop))\n"
   ]
  },
  {
   "cell_type": "code",
   "execution_count": 19,
   "id": "a34ff23c",
   "metadata": {},
   "outputs": [],
   "source": [
    "initial_learning_rate = 0.001\n",
    "optimizer = optimizers.Adam(learning_rate=initial_learning_rate)\n",
    "lr_scheduler = callbacks.LearningRateScheduler(lr_schedule, verbose=1)\n",
    "model.compile(optimizer=optimizer, loss='categorical_crossentropy', metrics=['accuracy'])\n",
    "early_stopping = callbacks.EarlyStopping(patience=10, restore_best_weights=True)\n"
   ]
  },
  {
   "cell_type": "code",
   "execution_count": 20,
   "id": "b01bd9fb",
   "metadata": {},
   "outputs": [
    {
     "name": "stdout",
     "output_type": "stream",
     "text": [
      "\n",
      "Epoch 1: LearningRateScheduler setting learning rate to 0.0010000000474974513.\n",
      "Epoch 1/15\n",
      "WARNING:tensorflow:From C:\\Users\\MI\\anaconda3\\Lib\\site-packages\\keras\\src\\utils\\tf_utils.py:492: The name tf.ragged.RaggedTensorValue is deprecated. Please use tf.compat.v1.ragged.RaggedTensorValue instead.\n",
      "\n",
      "WARNING:tensorflow:From C:\\Users\\MI\\anaconda3\\Lib\\site-packages\\keras\\src\\engine\\base_layer_utils.py:384: The name tf.executing_eagerly_outside_functions is deprecated. Please use tf.compat.v1.executing_eagerly_outside_functions instead.\n",
      "\n",
      "86/86 [==============================] - 1164s 12s/step - loss: 1.0467 - accuracy: 0.6244 - val_loss: 183011.7344 - val_accuracy: 0.3623 - lr: 0.0010\n",
      "\n",
      "Epoch 2: LearningRateScheduler setting learning rate to 0.0010000000474974513.\n",
      "Epoch 2/15\n",
      "86/86 [==============================] - 1081s 12s/step - loss: 0.8439 - accuracy: 0.6833 - val_loss: 22641.4082 - val_accuracy: 0.3623 - lr: 0.0010\n",
      "\n",
      "Epoch 3: LearningRateScheduler setting learning rate to 0.0010000000474974513.\n",
      "Epoch 3/15\n",
      "86/86 [==============================] - 1121s 13s/step - loss: 0.8429 - accuracy: 0.6909 - val_loss: 1.0733 - val_accuracy: 0.6594 - lr: 0.0010\n",
      "\n",
      "Epoch 4: LearningRateScheduler setting learning rate to 0.0010000000474974513.\n",
      "Epoch 4/15\n",
      "86/86 [==============================] - 1117s 13s/step - loss: 0.7488 - accuracy: 0.7145 - val_loss: 14.1294 - val_accuracy: 0.4275 - lr: 0.0010\n",
      "\n",
      "Epoch 5: LearningRateScheduler setting learning rate to 0.0010000000474974513.\n",
      "Epoch 5/15\n",
      "86/86 [==============================] - 981s 11s/step - loss: 0.7484 - accuracy: 0.7124 - val_loss: 5.8933 - val_accuracy: 0.3744 - lr: 0.0010\n",
      "\n",
      "Epoch 6: LearningRateScheduler setting learning rate to 0.0005000000237487257.\n",
      "Epoch 6/15\n",
      "86/86 [==============================] - 933s 11s/step - loss: 0.6851 - accuracy: 0.7378 - val_loss: 3.4725 - val_accuracy: 0.3696 - lr: 5.0000e-04\n",
      "\n",
      "Epoch 7: LearningRateScheduler setting learning rate to 0.0002500000118743628.\n",
      "Epoch 7/15\n",
      "86/86 [==============================] - 1010s 12s/step - loss: 0.6298 - accuracy: 0.7607 - val_loss: 0.6799 - val_accuracy: 0.7343 - lr: 2.5000e-04\n",
      "\n",
      "Epoch 8: LearningRateScheduler setting learning rate to 0.0001250000059371814.\n",
      "Epoch 8/15\n",
      "86/86 [==============================] - 1045s 12s/step - loss: 0.5790 - accuracy: 0.7713 - val_loss: 0.6250 - val_accuracy: 0.7560 - lr: 1.2500e-04\n",
      "\n",
      "Epoch 9: LearningRateScheduler setting learning rate to 6.25000029685907e-05.\n",
      "Epoch 9/15\n",
      "86/86 [==============================] - 1039s 12s/step - loss: 0.5615 - accuracy: 0.7829 - val_loss: 0.5421 - val_accuracy: 0.7802 - lr: 6.2500e-05\n",
      "\n",
      "Epoch 10: LearningRateScheduler setting learning rate to 3.125000148429535e-05.\n",
      "Epoch 10/15\n",
      "86/86 [==============================] - 1036s 12s/step - loss: 0.5543 - accuracy: 0.7949 - val_loss: 0.5212 - val_accuracy: 0.7923 - lr: 3.1250e-05\n",
      "\n",
      "Epoch 11: LearningRateScheduler setting learning rate to 7.812500371073838e-06.\n",
      "Epoch 11/15\n",
      "86/86 [==============================] - 1128s 13s/step - loss: 0.5431 - accuracy: 0.7982 - val_loss: 0.5086 - val_accuracy: 0.8068 - lr: 7.8125e-06\n",
      "\n",
      "Epoch 12: LearningRateScheduler setting learning rate to 1.9531250927684596e-06.\n",
      "Epoch 12/15\n",
      "86/86 [==============================] - 1067s 12s/step - loss: 0.5431 - accuracy: 0.7967 - val_loss: 0.5095 - val_accuracy: 0.8019 - lr: 1.9531e-06\n",
      "\n",
      "Epoch 13: LearningRateScheduler setting learning rate to 4.882812731921149e-07.\n",
      "Epoch 13/15\n",
      "86/86 [==============================] - 1053s 12s/step - loss: 0.5516 - accuracy: 0.7895 - val_loss: 0.5136 - val_accuracy: 0.8043 - lr: 4.8828e-07\n",
      "\n",
      "Epoch 14: LearningRateScheduler setting learning rate to 1.2207031829802872e-07.\n",
      "Epoch 14/15\n",
      "86/86 [==============================] - 904s 10s/step - loss: 0.5407 - accuracy: 0.7927 - val_loss: 0.5127 - val_accuracy: 0.8043 - lr: 1.2207e-07\n",
      "\n",
      "Epoch 15: LearningRateScheduler setting learning rate to 3.051757957450718e-08.\n",
      "Epoch 15/15\n",
      "86/86 [==============================] - 922s 11s/step - loss: 0.5473 - accuracy: 0.7898 - val_loss: 0.5139 - val_accuracy: 0.8043 - lr: 3.0518e-08\n"
     ]
    },
    {
     "data": {
      "text/plain": [
       "<keras.src.callbacks.History at 0x258b65ccc90>"
      ]
     },
     "execution_count": 20,
     "metadata": {},
     "output_type": "execute_result"
    }
   ],
   "source": [
    "model.fit(train_generator, epochs=15, callbacks=[lr_scheduler, early_stopping], validation_data=validation_generator)"
   ]
  },
  {
   "cell_type": "code",
   "execution_count": 21,
   "id": "94970e68",
   "metadata": {},
   "outputs": [
    {
     "name": "stdout",
     "output_type": "stream",
     "text": [
      "13/13 [==============================] - 33s 2s/step - loss: 0.4517 - accuracy: 0.8297\n",
      "Test Loss: 0.4517117738723755\n",
      "Test Accuracy: 0.8296837210655212\n"
     ]
    }
   ],
   "source": [
    "test_loss, test_accuracy = model.evaluate(test_generator)\n",
    "print(\"Test Loss:\", test_loss)\n",
    "print(\"Test Accuracy:\", test_accuracy)\n"
   ]
  },
  {
   "cell_type": "code",
   "execution_count": 22,
   "id": "212a1144",
   "metadata": {},
   "outputs": [
    {
     "name": "stderr",
     "output_type": "stream",
     "text": [
      "C:\\Users\\MI\\anaconda3\\Lib\\site-packages\\keras\\src\\engine\\training.py:3103: UserWarning: You are saving your model as an HDF5 file via `model.save()`. This file format is considered legacy. We recommend using instead the native Keras format, e.g. `model.save('my_model.keras')`.\n",
      "  saving_api.save_model(\n"
     ]
    }
   ],
   "source": [
    "model.save('dn121.h5')"
   ]
  },
  {
   "cell_type": "code",
   "execution_count": null,
   "id": "d421ba66",
   "metadata": {},
   "outputs": [],
   "source": []
  },
  {
   "cell_type": "code",
   "execution_count": null,
   "id": "10dc80c7",
   "metadata": {},
   "outputs": [],
   "source": []
  },
  {
   "cell_type": "code",
   "execution_count": null,
   "id": "fb0a5fac",
   "metadata": {},
   "outputs": [],
   "source": []
  },
  {
   "cell_type": "code",
   "execution_count": null,
   "id": "7b507087",
   "metadata": {},
   "outputs": [],
   "source": []
  }
 ],
 "metadata": {
  "kernelspec": {
   "display_name": "Python 3 (ipykernel)",
   "language": "python",
   "name": "python3"
  },
  "language_info": {
   "codemirror_mode": {
    "name": "ipython",
    "version": 3
   },
   "file_extension": ".py",
   "mimetype": "text/x-python",
   "name": "python",
   "nbconvert_exporter": "python",
   "pygments_lexer": "ipython3",
   "version": "3.11.5"
  }
 },
 "nbformat": 4,
 "nbformat_minor": 5
}
